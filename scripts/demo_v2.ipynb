{
 "metadata": {
  "name": ""
 },
 "nbformat": 3,
 "nbformat_minor": 0,
 "worksheets": [
  {
   "cells": [
    {
     "cell_type": "heading",
     "level": 1,
     "metadata": {},
     "source": [
      "Simple example of how to use the ORM"
     ]
    },
    {
     "cell_type": "heading",
     "level": 2,
     "metadata": {},
     "source": [
      "Import necessary stuff"
     ]
    },
    {
     "cell_type": "code",
     "collapsed": false,
     "input": [
      "from modelmeta import v2 as modelmeta\n",
      "from sqlalchemy import create_engine\n",
      "from sqlalchemy.orm import sessionmaker\n",
      "from optparse import OptionParser"
     ],
     "language": "python",
     "metadata": {},
     "outputs": [],
     "prompt_number": 1
    },
    {
     "cell_type": "heading",
     "level": 2,
     "metadata": {},
     "source": [
      "Create the database session"
     ]
    },
    {
     "cell_type": "code",
     "collapsed": false,
     "input": [
      "engine = create_engine('postgresql://httpd_meta@monsoon.pcic.uvic.ca/pcic_meta?sslmode=require')\n",
      "Session = sessionmaker(bind=engine)\n",
      "session = Session()"
     ],
     "language": "python",
     "metadata": {},
     "outputs": [],
     "prompt_number": 2
    },
    {
     "cell_type": "heading",
     "level": 2,
     "metadata": {},
     "source": [
      "Query all of some type of object"
     ]
    },
    {
     "cell_type": "code",
     "collapsed": false,
     "input": [
      "q = session.query(modelmeta.Ensemble)\n",
      "q.count(), [x.name for x in q.all()]"
     ],
     "language": "python",
     "metadata": {},
     "outputs": [
      {
       "metadata": {},
       "output_type": "pyout",
       "prompt_number": 23,
       "text": [
        "(3L, [u'canada_map', u'bcsd_downscale_canada', u'bccaq_downscale_canada'])"
       ]
      }
     ],
     "prompt_number": 23
    },
    {
     "cell_type": "heading",
     "level": 2,
     "metadata": {},
     "source": [
      "Look up objects based on query parameters"
     ]
    },
    {
     "cell_type": "code",
     "collapsed": false,
     "input": [
      "q = session.query(modelmeta.DataFileVariable).\\\n",
      "join(modelmeta.EnsembleDataFileVariables).\\\n",
      "join(modelmeta.Ensemble).\\\n",
      "filter(modelmeta.Ensemble.name == 'canada_map')"
     ],
     "language": "python",
     "metadata": {},
     "outputs": [],
     "prompt_number": 21
    },
    {
     "cell_type": "heading",
     "level": 2,
     "metadata": {},
     "source": [
      "Or use the built in relational mapping"
     ]
    },
    {
     "cell_type": "code",
     "collapsed": false,
     "input": [
      "myensemble = session.query(modelmeta.Ensemble).filter(modelmeta.Ensemble.name == 'canada_map').first()\n",
      "print 'Ensemble: ' + myensemble.name + ' with ' + str(len(myensemble.data_file_variables)) + ' data_file_vars'"
     ],
     "language": "python",
     "metadata": {},
     "outputs": [
      {
       "output_type": "stream",
       "stream": "stdout",
       "text": [
        "Ensemble: canada_map with 330 data_file_vars\n"
       ]
      }
     ],
     "prompt_number": 25
    },
    {
     "cell_type": "heading",
     "level": 2,
     "metadata": {},
     "source": [
      " You can map all the way down the rabbit hole"
     ]
    },
    {
     "cell_type": "code",
     "collapsed": false,
     "input": [
      "mymodel = myensemble.data_file_variables[0].file.run.model\n",
      "print mymodel.short_name"
     ],
     "language": "python",
     "metadata": {},
     "outputs": [
      {
       "output_type": "stream",
       "stream": "stdout",
       "text": [
        "BCCA+ANUSPLIN300+ACCESS1-0\n"
       ]
      }
     ],
     "prompt_number": 29
    },
    {
     "cell_type": "heading",
     "level": 3,
     "metadata": {},
     "source": [
      "And back up again"
     ]
    },
    {
     "cell_type": "code",
     "collapsed": false,
     "input": [
      "mymodel.runs[0].files[0].data_file_variables[0].ensembles[0].name"
     ],
     "language": "python",
     "metadata": {},
     "outputs": [
      {
       "metadata": {},
       "output_type": "pyout",
       "prompt_number": 37,
       "text": [
        "u'canada_map'"
       ]
      }
     ],
     "prompt_number": 37
    },
    {
     "cell_type": "heading",
     "level": 3,
     "metadata": {},
     "source": [
      "And around in circles"
     ]
    },
    {
     "cell_type": "code",
     "collapsed": false,
     "input": [
      "myensemble.data_file_variables[0].\\\n",
      "file.run.emission.runs[0].files[0].data_file_variables[0].\\\n",
      "grid.data_file_variables[0].variable_alias.data_files[0].\\\n",
      "data_file_variables[0].ensembles[0].name"
     ],
     "language": "python",
     "metadata": {},
     "outputs": [
      {
       "metadata": {},
       "output_type": "pyout",
       "prompt_number": 55,
       "text": [
        "u'canada_map'"
       ]
      }
     ],
     "prompt_number": 55
    },
    {
     "cell_type": "code",
     "collapsed": false,
     "input": [],
     "language": "python",
     "metadata": {},
     "outputs": []
    }
   ],
   "metadata": {}
  }
 ]
}